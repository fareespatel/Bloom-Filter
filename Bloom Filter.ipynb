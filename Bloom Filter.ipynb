{
 "cells": [
  {
   "cell_type": "code",
   "execution_count": 46,
   "metadata": {},
   "outputs": [],
   "source": [
    "# Mohammed Farees Patel\n",
    "\n",
    "# Problem 2\n",
    "\n",
    "\n",
    "#==================== Definations =====================\n",
    "# k = No. of hash functions\n",
    "# n = size of (hashing based) bit_array in memory\n",
    "# m = size of input set S\n",
    "#========== DECIDING THE VALUE OF 'k' and 'n' ============\n",
    "# n/m = 2, k = 1, FPR = 0.393469340287\n",
    "# n/m = 2, k = 2, FPR = 0.399576400894\n",
    "# n/m = 2, k = 3, FPR = 0.46886172812\n",
    "# n/m = 2, k = 4, FPR = 0.558973154307\n",
    "# n/m = 2, k = 5, FPR = 0.651646906166\n",
    "# n/m = 2, k = 6, FPR = 0.736081019362\n",
    "# n/m = 2, k = 7, FPR = 0.806832643073\n",
    "# n/m = 2, k = 8, FPR = 0.862531529669\n",
    "# n/m = 2, k = 9, FPR = 0.904348521356\n",
    "# n/m = 2, k = 10, FPR = 0.934627247932\n",
    "# n/m = 4, k = 1, FPR = 0.221199216929\n",
    "# n/m = 4, k = 2, FPR = 0.154818121746\n",
    "# n/m = 4, k = 3, FPR = 0.14689159766\n",
    "# n/m = 4, k = 4, FPR = 0.159661300151\n",
    "# n/m = 4, k = 5, FPR = 0.184907824237\n",
    "# n/m = 4, k = 6, FPR = 0.219831320096\n",
    "# n/m = 4, k = 7, FPR = 0.262840454739\n",
    "# n/m = 4, k = 8, FPR = 0.312450987236\n",
    "# n/m = 4, k = 9, FPR = 0.366997776083\n",
    "# n/m = 4, k = 10, FPR = 0.424643690315\n",
    "# n/m = 8, k = 1, FPR = 0.117503097415\n",
    "# n/m = 8, k = 2, FPR = 0.0489290935698\n",
    "# n/m = 8, k = 3, FPR = 0.0305793544918\n",
    "# n/m = 8, k = 4, FPR = 0.023968650821\n",
    "# n/m = 8, k = 5, FPR = 0.0216792170538\n",
    "# n/m = 8, k = 6, FPR = 0.0215771414632\n",
    "# n/m = 8, k = 7, FPR = 0.0229297488771\n",
    "# n/m = 8, k = 8, FPR = 0.025491730766\n",
    "# n/m = 8, k = 9, FPR = 0.0292244171051\n",
    "# n/m = 8, k = 10, FPR = 0.0341909034641\n",
    "# n/m = 16, k = 1, FPR = 0.0605869371865\n",
    "# n/m = 16, k = 2, FPR = 0.0138069779022\n",
    "# n/m = 16, k = 3, FPR = 0.00499765710079\n",
    "# n/m = 16, k = 4, FPR = 0.00239405619756\n",
    "# n/m = 16, k = 5, FPR = 0.00139247083856\n",
    "# n/m = 16, k = 6, FPR = 0.000935096921134\n",
    "# n/m = 16, k = 7, FPR = 0.000701519426159\n",
    "# n/m = 16, k = 8, FPR = 0.00057449622218\n",
    "# n/m = 16, k = 9, FPR = 0.000504881781943\n",
    "# n/m = 16, k = 10, FPR = 0.000469988452064\n",
    "# According to the graph of 'k vs. FPR' attached along with the code, I intend to choose n/m = 4 i.e. n = 4 * m i.e. size of bit_array = 4 * size of set (due to memory constraints) and the value of k = 3 because it has the minimal probability of FP possible when n/m = 4 (orange line in the plot)\n",
    "\n",
    "#============================Therotical value from Graph========================================\n",
    "\n",
    "# for k = 3, n/m = 4, Prob(FP) = 0.14689159766 (from the above calculations)\n",
    "\n",
    "#=================================================================================================\n"
   ]
  },
  {
   "cell_type": "code",
   "execution_count": 47,
   "metadata": {},
   "outputs": [],
   "source": [
    "# Load libraries\n",
    "from bitarray import bitarray\n",
    "import mmh3\n",
    "import codecs\n",
    "import unicodedata\n",
    "import jhashcode\n",
    "from spooky import hash32\n",
    "import re"
   ]
  },
  {
   "cell_type": "code",
   "execution_count": 70,
   "metadata": {},
   "outputs": [],
   "source": [
    "# reading the set 'S' and stream file\n",
    "\n",
    "fp = open(\"listed_username_30.txt\", \"r\")\n",
    "S = []\t\t# the set of elements which are spam i.e. m = |S|\n",
    "for i in fp:\n",
    "\tS.append(i)\n",
    "fp.close()\n",
    "\n",
    "# reading the stream of elements\n",
    "fp = open(\"listed_username_365.txt\", \"r\")\n",
    "stream = []\t\t\n",
    "for i in fp:\n",
    "\tstream.append(i)\n",
    "fp.close()"
   ]
  },
  {
   "cell_type": "code",
   "execution_count": 71,
   "metadata": {},
   "outputs": [],
   "source": [
    "# Chooosing the right parameter for the model\n",
    "\n",
    "n_hash_functions = 3\n",
    "bit_array_size = 4 * len(S)\t\t# n/m = 4, thus n = 4 * m\n",
    "bit_array = bitarray(bit_array_size)\t# bit_array_size is 4 * size of S\n",
    "bit_array.setall(bool(0))"
   ]
  },
  {
   "cell_type": "code",
   "execution_count": 72,
   "metadata": {},
   "outputs": [],
   "source": [
    "# define a hash table\n",
    "hash_table = {}\n",
    "for i in S:\n",
    "\thash_value_1 = mmh3.hash(i) % bit_array_size\n",
    "\thash_value_2 = jhashcode.hashcode(i) % bit_array_size\n",
    "\thash_value_3 = hash32(i) % bit_array_size\n",
    "\tbit_array[hash_value_1] = bool(1)\n",
    "\tbit_array[hash_value_2] = bool(1)\n",
    "\tbit_array[hash_value_3] = bool(1)\n",
    "\thash_table[i] = i"
   ]
  },
  {
   "cell_type": "code",
   "execution_count": 73,
   "metadata": {},
   "outputs": [],
   "source": [
    "# checking false positives\n",
    "\n",
    "false_positive = int(0)\n",
    "true_negative = int(0)\n",
    "for i in stream:\n",
    "\tstream_hash_value_1 = mmh3.hash(i) % bit_array_size\n",
    "\tstream_hash_value_2 = jhashcode.hashcode(i) % bit_array_size\n",
    "\tstream_hash_value_3 = hash32(i) % bit_array_size\n",
    "\t# check if all are 1's\n",
    "\tif (bit_array[stream_hash_value_1] is bool(1)) and (bit_array[stream_hash_value_2] is bool(1)) and (bit_array[stream_hash_value_3] is bool(1)):\n",
    "\t\t# if all are 1's, check if S doesn't contain the stream element\n",
    "\t\tif i not in hash_table:\n",
    "\t\t\tfalse_positive = false_positive + 1\n",
    "\t# if either of the hash_value is not 1, it is indeed true negative i.e. not a spam and has been identified not a spam\n",
    "\telse:\n",
    "\t\ttrue_negative = true_negative + 1"
   ]
  },
  {
   "cell_type": "code",
   "execution_count": 74,
   "metadata": {},
   "outputs": [
    {
     "name": "stdout",
     "output_type": "stream",
     "text": [
      "No. of hash functions:  3\n",
      "Size of bit_array in memory:  1316204\n",
      "Percentage of false postives:  14.6892976424\n"
     ]
    }
   ],
   "source": [
    "# print false positive percentage\n",
    "print \"No. of hash functions: \", n_hash_functions\n",
    "print \"Size of bit_array in memory: \", bit_array_size\n",
    "print \"Percentage of false postives: \", (float(false_positive)/(false_positive + true_negative)) * 100"
   ]
  }
 ],
 "metadata": {
  "kernelspec": {
   "display_name": "Python 2",
   "language": "python",
   "name": "python2"
  },
  "language_info": {
   "codemirror_mode": {
    "name": "ipython",
    "version": 2
   },
   "file_extension": ".py",
   "mimetype": "text/x-python",
   "name": "python",
   "nbconvert_exporter": "python",
   "pygments_lexer": "ipython2",
   "version": "2.7.14"
  }
 },
 "nbformat": 4,
 "nbformat_minor": 2
}
